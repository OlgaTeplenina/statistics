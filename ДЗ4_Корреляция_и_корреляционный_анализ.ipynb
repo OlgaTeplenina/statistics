{
  "nbformat": 4,
  "nbformat_minor": 0,
  "metadata": {
    "colab": {
      "name": "ДЗ4_Корреляция и корреляционный анализ.ipynb",
      "provenance": [],
      "collapsed_sections": []
    },
    "kernelspec": {
      "name": "python3",
      "display_name": "Python 3"
    },
    "language_info": {
      "name": "python"
    }
  },
  "cells": [
    {
      "cell_type": "code",
      "execution_count": null,
      "metadata": {
        "id": "GbB6OOHD3PVZ"
      },
      "outputs": [],
      "source": [
        "import pandas as pd\n",
        "import matplotlib.pyplot as plt\n",
        "from sklearn.linear_model import LinearRegression\n",
        "from sklearn.model_selection import train_test_split"
      ]
    },
    {
      "cell_type": "markdown",
      "source": [
        "# Задание 1\n",
        "\n",
        "Ответить на вопрос: есть ли связь между жёсткостью воды и средней годовой смертностью?"
      ],
      "metadata": {
        "id": "B9cc9K2V3cjV"
      }
    },
    {
      "cell_type": "code",
      "source": [
        "df = pd.read_csv('water.csv')\n",
        "df.head()"
      ],
      "metadata": {
        "colab": {
          "base_uri": "https://localhost:8080/",
          "height": 206
        },
        "id": "phcNii7o3hrX",
        "outputId": "c7b68f6a-7af4-42cf-ab93-778c30b0cd52"
      },
      "execution_count": null,
      "outputs": [
        {
          "output_type": "execute_result",
          "data": {
            "text/html": [
              "\n",
              "  <div id=\"df-4a8398c8-8d27-47f5-a9ac-aeb56e7ce564\">\n",
              "    <div class=\"colab-df-container\">\n",
              "      <div>\n",
              "<style scoped>\n",
              "    .dataframe tbody tr th:only-of-type {\n",
              "        vertical-align: middle;\n",
              "    }\n",
              "\n",
              "    .dataframe tbody tr th {\n",
              "        vertical-align: top;\n",
              "    }\n",
              "\n",
              "    .dataframe thead th {\n",
              "        text-align: right;\n",
              "    }\n",
              "</style>\n",
              "<table border=\"1\" class=\"dataframe\">\n",
              "  <thead>\n",
              "    <tr style=\"text-align: right;\">\n",
              "      <th></th>\n",
              "      <th>Unnamed: 0</th>\n",
              "      <th>location</th>\n",
              "      <th>town</th>\n",
              "      <th>mortality</th>\n",
              "      <th>hardness</th>\n",
              "    </tr>\n",
              "  </thead>\n",
              "  <tbody>\n",
              "    <tr>\n",
              "      <th>0</th>\n",
              "      <td>1</td>\n",
              "      <td>South</td>\n",
              "      <td>Bath</td>\n",
              "      <td>1247</td>\n",
              "      <td>105</td>\n",
              "    </tr>\n",
              "    <tr>\n",
              "      <th>1</th>\n",
              "      <td>2</td>\n",
              "      <td>North</td>\n",
              "      <td>Birkenhead</td>\n",
              "      <td>1668</td>\n",
              "      <td>17</td>\n",
              "    </tr>\n",
              "    <tr>\n",
              "      <th>2</th>\n",
              "      <td>3</td>\n",
              "      <td>South</td>\n",
              "      <td>Birmingham</td>\n",
              "      <td>1466</td>\n",
              "      <td>5</td>\n",
              "    </tr>\n",
              "    <tr>\n",
              "      <th>3</th>\n",
              "      <td>4</td>\n",
              "      <td>North</td>\n",
              "      <td>Blackburn</td>\n",
              "      <td>1800</td>\n",
              "      <td>14</td>\n",
              "    </tr>\n",
              "    <tr>\n",
              "      <th>4</th>\n",
              "      <td>5</td>\n",
              "      <td>North</td>\n",
              "      <td>Blackpool</td>\n",
              "      <td>1609</td>\n",
              "      <td>18</td>\n",
              "    </tr>\n",
              "  </tbody>\n",
              "</table>\n",
              "</div>\n",
              "      <button class=\"colab-df-convert\" onclick=\"convertToInteractive('df-4a8398c8-8d27-47f5-a9ac-aeb56e7ce564')\"\n",
              "              title=\"Convert this dataframe to an interactive table.\"\n",
              "              style=\"display:none;\">\n",
              "        \n",
              "  <svg xmlns=\"http://www.w3.org/2000/svg\" height=\"24px\"viewBox=\"0 0 24 24\"\n",
              "       width=\"24px\">\n",
              "    <path d=\"M0 0h24v24H0V0z\" fill=\"none\"/>\n",
              "    <path d=\"M18.56 5.44l.94 2.06.94-2.06 2.06-.94-2.06-.94-.94-2.06-.94 2.06-2.06.94zm-11 1L8.5 8.5l.94-2.06 2.06-.94-2.06-.94L8.5 2.5l-.94 2.06-2.06.94zm10 10l.94 2.06.94-2.06 2.06-.94-2.06-.94-.94-2.06-.94 2.06-2.06.94z\"/><path d=\"M17.41 7.96l-1.37-1.37c-.4-.4-.92-.59-1.43-.59-.52 0-1.04.2-1.43.59L10.3 9.45l-7.72 7.72c-.78.78-.78 2.05 0 2.83L4 21.41c.39.39.9.59 1.41.59.51 0 1.02-.2 1.41-.59l7.78-7.78 2.81-2.81c.8-.78.8-2.07 0-2.86zM5.41 20L4 18.59l7.72-7.72 1.47 1.35L5.41 20z\"/>\n",
              "  </svg>\n",
              "      </button>\n",
              "      \n",
              "  <style>\n",
              "    .colab-df-container {\n",
              "      display:flex;\n",
              "      flex-wrap:wrap;\n",
              "      gap: 12px;\n",
              "    }\n",
              "\n",
              "    .colab-df-convert {\n",
              "      background-color: #E8F0FE;\n",
              "      border: none;\n",
              "      border-radius: 50%;\n",
              "      cursor: pointer;\n",
              "      display: none;\n",
              "      fill: #1967D2;\n",
              "      height: 32px;\n",
              "      padding: 0 0 0 0;\n",
              "      width: 32px;\n",
              "    }\n",
              "\n",
              "    .colab-df-convert:hover {\n",
              "      background-color: #E2EBFA;\n",
              "      box-shadow: 0px 1px 2px rgba(60, 64, 67, 0.3), 0px 1px 3px 1px rgba(60, 64, 67, 0.15);\n",
              "      fill: #174EA6;\n",
              "    }\n",
              "\n",
              "    [theme=dark] .colab-df-convert {\n",
              "      background-color: #3B4455;\n",
              "      fill: #D2E3FC;\n",
              "    }\n",
              "\n",
              "    [theme=dark] .colab-df-convert:hover {\n",
              "      background-color: #434B5C;\n",
              "      box-shadow: 0px 1px 3px 1px rgba(0, 0, 0, 0.15);\n",
              "      filter: drop-shadow(0px 1px 2px rgba(0, 0, 0, 0.3));\n",
              "      fill: #FFFFFF;\n",
              "    }\n",
              "  </style>\n",
              "\n",
              "      <script>\n",
              "        const buttonEl =\n",
              "          document.querySelector('#df-4a8398c8-8d27-47f5-a9ac-aeb56e7ce564 button.colab-df-convert');\n",
              "        buttonEl.style.display =\n",
              "          google.colab.kernel.accessAllowed ? 'block' : 'none';\n",
              "\n",
              "        async function convertToInteractive(key) {\n",
              "          const element = document.querySelector('#df-4a8398c8-8d27-47f5-a9ac-aeb56e7ce564');\n",
              "          const dataTable =\n",
              "            await google.colab.kernel.invokeFunction('convertToInteractive',\n",
              "                                                     [key], {});\n",
              "          if (!dataTable) return;\n",
              "\n",
              "          const docLinkHtml = 'Like what you see? Visit the ' +\n",
              "            '<a target=\"_blank\" href=https://colab.research.google.com/notebooks/data_table.ipynb>data table notebook</a>'\n",
              "            + ' to learn more about interactive tables.';\n",
              "          element.innerHTML = '';\n",
              "          dataTable['output_type'] = 'display_data';\n",
              "          await google.colab.output.renderOutput(dataTable, element);\n",
              "          const docLink = document.createElement('div');\n",
              "          docLink.innerHTML = docLinkHtml;\n",
              "          element.appendChild(docLink);\n",
              "        }\n",
              "      </script>\n",
              "    </div>\n",
              "  </div>\n",
              "  "
            ],
            "text/plain": [
              "   Unnamed: 0 location        town  mortality  hardness\n",
              "0           1    South        Bath       1247       105\n",
              "1           2    North  Birkenhead       1668        17\n",
              "2           3    South  Birmingham       1466         5\n",
              "3           4    North   Blackburn       1800        14\n",
              "4           5    North   Blackpool       1609        18"
            ]
          },
          "metadata": {},
          "execution_count": 31
        }
      ]
    },
    {
      "cell_type": "markdown",
      "source": [
        "**Построить точечный график**"
      ],
      "metadata": {
        "id": "eG8MOYsk4f_N"
      }
    },
    {
      "cell_type": "code",
      "source": [
        "df.plot(kind='scatter', \n",
        "        x='hardness', \n",
        "        y='mortality', \n",
        "        title='Корреляция между жёсткостью воды и средней годовой смертностью')"
      ],
      "metadata": {
        "colab": {
          "base_uri": "https://localhost:8080/",
          "height": 313
        },
        "id": "aiq5s2Ol4pXq",
        "outputId": "b1914bb4-1ac1-406d-afbe-f121dc82228a"
      },
      "execution_count": null,
      "outputs": [
        {
          "output_type": "execute_result",
          "data": {
            "text/plain": [
              "<matplotlib.axes._subplots.AxesSubplot at 0x7fe214a46410>"
            ]
          },
          "metadata": {},
          "execution_count": 32
        },
        {
          "output_type": "display_data",
          "data": {
            "image/png": "[encoded data removed]",
            "text/plain": [
              "<Figure size 432x288 with 1 Axes>"
            ]
          },
          "metadata": {
            "needs_background": "light"
          }
        }
      ]
    },
    {
      "cell_type": "markdown",
      "source": [
        "**Рассчитать коэффициенты корреляции Пирсона и Спирмена**"
      ],
      "metadata": {
        "id": "E1nklxUZ5EeC"
      }
    },
    {
      "cell_type": "markdown",
      "source": [
        "Посмотрим нет, ли выбросов"
      ],
      "metadata": {
        "id": "QwdqlA_6PtJO"
      }
    },
    {
      "cell_type": "code",
      "source": [
        "df['mortality'].plot(kind='box',\n",
        "                   title='Распределение средней годовой смертности', grid=True)\n"
      ],
      "metadata": {
        "id": "j6KvaluX59N8",
        "colab": {
          "base_uri": "https://localhost:8080/",
          "height": 300
        },
        "outputId": "cb1c6fda-8ed4-4291-f561-c56a1e86cad0"
      },
      "execution_count": null,
      "outputs": [
        {
          "output_type": "execute_result",
          "data": {
            "text/plain": [
              "<matplotlib.axes._subplots.AxesSubplot at 0x7fe218562050>"
            ]
          },
          "metadata": {},
          "execution_count": 6
        },
        {
          "output_type": "display_data",
          "data": {
            "image/png": "[encoded data removed]",
            "text/plain": [
              "<Figure size 432x288 with 1 Axes>"
            ]
          },
          "metadata": {
            "needs_background": "light"
          }
        }
      ]
    },
    {
      "cell_type": "code",
      "source": [
        "df['hardness'].plot(kind='box',\n",
        "                   title='Распределение жёсткости воды', grid=True)"
      ],
      "metadata": {
        "colab": {
          "base_uri": "https://localhost:8080/",
          "height": 300
        },
        "id": "TFpm81xIQ2rp",
        "outputId": "58af4a8e-c028-47f7-f24c-2bfad562275a"
      },
      "execution_count": null,
      "outputs": [
        {
          "output_type": "execute_result",
          "data": {
            "text/plain": [
              "<matplotlib.axes._subplots.AxesSubplot at 0x7fe217c36390>"
            ]
          },
          "metadata": {},
          "execution_count": 7
        },
        {
          "output_type": "display_data",
          "data": {
            "image/png": "[encoded data removed]",
            "text/plain": [
              "<Figure size 432x288 with 1 Axes>"
            ]
          },
          "metadata": {
            "needs_background": "light"
          }
        }
      ]
    },
    {
      "cell_type": "code",
      "source": [
        "df['mortality'].corr(df['hardness'])   # Пирсон. Средняя обратная связь "
      ],
      "metadata": {
        "colab": {
          "base_uri": "https://localhost:8080/"
        },
        "id": "cczFnJjOQ8uy",
        "outputId": "bfb36c9b-7ebc-4e63-dd78-7299049c7fdf"
      },
      "execution_count": null,
      "outputs": [
        {
          "output_type": "execute_result",
          "data": {
            "text/plain": [
              "-0.6548486232042463"
            ]
          },
          "metadata": {},
          "execution_count": 33
        }
      ]
    },
    {
      "cell_type": "code",
      "source": [
        "df['mortality'].corr(df['hardness'], method='spearman')   # Спирмен. Средняя обратная связь "
      ],
      "metadata": {
        "colab": {
          "base_uri": "https://localhost:8080/"
        },
        "id": "WqK73FlFRMA0",
        "outputId": "a54f56b8-4577-4c06-b4ef-15c643dc2df8"
      },
      "execution_count": null,
      "outputs": [
        {
          "output_type": "execute_result",
          "data": {
            "text/plain": [
              "-0.6316646189166502"
            ]
          },
          "metadata": {},
          "execution_count": 34
        }
      ]
    },
    {
      "cell_type": "markdown",
      "source": [
        "**Построить модель линейной регрессии**"
      ],
      "metadata": {
        "id": "cQykze546Bvr"
      }
    },
    {
      "cell_type": "code",
      "source": [
        "X = df[['hardness']]\n",
        "y = df['mortality']\n",
        "X_train, X_test, y_train, y_test = train_test_split(X, y, test_size=0.2, random_state=42)\n",
        "model = LinearRegression()\n",
        "model.fit(X_train, y_train)\n",
        "print(model.coef_)\n",
        "print(model.intercept_)"
      ],
      "metadata": {
        "id": "28QN-OkI6ETi",
        "colab": {
          "base_uri": "https://localhost:8080/"
        },
        "outputId": "32491586-3c65-4243-9c3d-274153225288"
      },
      "execution_count": null,
      "outputs": [
        {
          "output_type": "stream",
          "name": "stdout",
          "text": [
            "[-3.28281845]\n",
            "1683.9212680875548\n"
          ]
        }
      ]
    },
    {
      "cell_type": "markdown",
      "source": [
        "*Y = -3.28 * x + 1683.92*"
      ],
      "metadata": {
        "id": "-9wdh2v3VNCh"
      }
    },
    {
      "cell_type": "markdown",
      "source": [
        "**Рассчитать коэффициент детерминации**"
      ],
      "metadata": {
        "id": "LNc9sJKZ6EaE"
      }
    },
    {
      "cell_type": "code",
      "source": [
        "model.score(X_test, y_test)   # Коэффициент детерминации. Модель не надёжна"
      ],
      "metadata": {
        "id": "NhjVqa0T6GXp",
        "colab": {
          "base_uri": "https://localhost:8080/"
        },
        "outputId": "95b34b11-6405-44fb-ace3-7bc7661b282e"
      },
      "execution_count": null,
      "outputs": [
        {
          "output_type": "execute_result",
          "data": {
            "text/plain": [
              "0.5099679408034544"
            ]
          },
          "metadata": {},
          "execution_count": 59
        }
      ]
    },
    {
      "cell_type": "markdown",
      "source": [
        "**Вывести график остатков**"
      ],
      "metadata": {
        "id": "0WJG1_ci6Gc6"
      }
    },
    {
      "cell_type": "code",
      "source": [
        "y_pred = model.predict(X)"
      ],
      "metadata": {
        "id": "xrAvVwRnbdlr"
      },
      "execution_count": null,
      "outputs": []
    },
    {
      "cell_type": "code",
      "source": [
        "plt.scatter(X, y)\n",
        "plt.plot(X, y_pred, c='r')\n",
        "plt.plot([X['hardness'], X['hardness']], [y, y_pred])\n",
        "plt.title('График остатков')\n",
        "plt.xlabel('Жёсткость воды')\n",
        "plt.ylabel('Средняя годовая смертность')"
      ],
      "metadata": {
        "colab": {
          "base_uri": "https://localhost:8080/",
          "height": 313
        },
        "id": "Ksq7wHexZU6j",
        "outputId": "ddda9d0f-f059-40ea-c7bd-191a7e740efa"
      },
      "execution_count": null,
      "outputs": [
        {
          "output_type": "execute_result",
          "data": {
            "text/plain": [
              "Text(0, 0.5, 'Средняя годовая смертность')"
            ]
          },
          "metadata": {},
          "execution_count": 77
        },
        {
          "output_type": "display_data",
          "data": {
            "image/png": "[encoded data removed]",
            "text/plain": [
              "<Figure size 432x288 with 1 Axes>"
            ]
          },
          "metadata": {
            "needs_background": "light"
          }
        }
      ]
    },
    {
      "cell_type": "code",
      "source": [
        "rr = y - y_pred\n",
        "rr.plot(kind='hist', title='Распределение остатков', bins=25)"
      ],
      "metadata": {
        "colab": {
          "base_uri": "https://localhost:8080/",
          "height": 300
        },
        "id": "k9iVBWg5jj4j",
        "outputId": "7df41648-37dd-423f-9727-705d7d74883c"
      },
      "execution_count": null,
      "outputs": [
        {
          "output_type": "execute_result",
          "data": {
            "text/plain": [
              "<matplotlib.axes._subplots.AxesSubplot at 0x7fe213c20790>"
            ]
          },
          "metadata": {},
          "execution_count": 83
        },
        {
          "output_type": "display_data",
          "data": {
            "image/png": "[encoded data removed]",
            "text/plain": [
              "<Figure size 432x288 with 1 Axes>"
            ]
          },
          "metadata": {
            "needs_background": "light"
          }
        }
      ]
    },
    {
      "cell_type": "markdown",
      "source": [
        "▶ Корреляционый анлиз показал, что между жёсткостью воды и средней годовой смертностью есть средняя обратная взаимосвязь, это значит, что эти два показателя взаимоизменяются: при увеличении жёсткости воды, средняя годовая смертность пропорционально уменьшается. Но на основе предоставленных данных, нельзя говорить о причинах увеличения смертности или изменения жёсткости воды.\n",
        "\n",
        "\n",
        "▶ В ходе регрессионного анализа построена модель, которая позволяет прогнозировать среднюю годовую смертность на основе жёсткости воды. Модель не надёжна, т.к. коэффициент детерминации равено 0,5. По графику остатков сложно оцекнить качество модели, но график распредлелния остатков, где распределение не нормальное, поддтверждает низкое качество модели."
      ],
      "metadata": {
        "id": "LHX9kjopiRUP"
      }
    },
    {
      "cell_type": "markdown",
      "source": [
        "# Задание 2\n",
        "\n",
        "Ответить на вопрос: сохраняется ли аналогичная зависимость для северных и южных городов по отдельности?\n"
      ],
      "metadata": {
        "id": "O5TEyQFn3i-i"
      }
    },
    {
      "cell_type": "code",
      "source": [
        "df_south = df.loc[df['location'] == 'South']   # 26 строк\n",
        "df_north = df.loc[df['location'] == 'North']   # 35 строк"
      ],
      "metadata": {
        "id": "QgqeiMyQ6KHX"
      },
      "execution_count": null,
      "outputs": []
    },
    {
      "cell_type": "markdown",
      "source": [
        "**Южные города**"
      ],
      "metadata": {
        "id": "JufSablOSuBp"
      }
    },
    {
      "cell_type": "code",
      "source": [
        "print(df_south['mortality'].corr(df_south['hardness']))   # Пирсон. Средняя обратная связь \n",
        "print(df_south['mortality'].corr(df_south['hardness'], method='spearman'))   # Спирмен. Средняя обратная связь "
      ],
      "metadata": {
        "colab": {
          "base_uri": "https://localhost:8080/"
        },
        "id": "uintMx6FSWvJ",
        "outputId": "c46ef877-5ddd-4c35-80d8-274af9a7c8e1"
      },
      "execution_count": null,
      "outputs": [
        {
          "output_type": "stream",
          "name": "stdout",
          "text": [
            "-0.6021532715484156\n",
            "-0.5957229185013566\n"
          ]
        }
      ]
    },
    {
      "cell_type": "code",
      "source": [
        "X = df_south[['hardness']]\n",
        "y = df_south['mortality']\n",
        "X_train, X_test, y_train, y_test = train_test_split(X, y, test_size=0.1, random_state=42)  # т.к. данных очень мало, увеличим часть данных, на ктр модель будет обучаться \n",
        "model = LinearRegression()    \n",
        "model.fit(X_train, y_train)  # y = -2.16 * X + 1529.14\n",
        "print(model.coef_)\n",
        "print(model.intercept_)"
      ],
      "metadata": {
        "colab": {
          "base_uri": "https://localhost:8080/"
        },
        "id": "xejTe9rOkn_9",
        "outputId": "0b0ae302-ee3f-45ac-9216-a4171e6280ef"
      },
      "execution_count": null,
      "outputs": [
        {
          "output_type": "stream",
          "name": "stdout",
          "text": [
            "[-2.1645425]\n",
            "1529.143749365289\n"
          ]
        }
      ]
    },
    {
      "cell_type": "code",
      "source": [
        "model.score(X_test, y_test)   # Коэффициент детерминации. Качество модели чуть выше среднего (но даных было мало, что могло повлиять на качество)"
      ],
      "metadata": {
        "colab": {
          "base_uri": "https://localhost:8080/"
        },
        "id": "sK91W2ywk8c9",
        "outputId": "93a1c5c3-8e0b-41c8-ed4b-04e31f5fe600"
      },
      "execution_count": null,
      "outputs": [
        {
          "output_type": "execute_result",
          "data": {
            "text/plain": [
              "0.7724212353112103"
            ]
          },
          "metadata": {},
          "execution_count": 87
        }
      ]
    },
    {
      "cell_type": "code",
      "source": [
        "y_pred = model.predict(X)\n",
        "\n",
        "plt.scatter(X, y)\n",
        "plt.plot(X, y_pred, c='r')\n",
        "plt.plot([X['hardness'], X['hardness']], [y, y_pred])\n",
        "plt.title('График остатков по южным городам')\n",
        "plt.xlabel('Жёсткость воды')\n",
        "plt.ylabel('Средняя годовая смертность')"
      ],
      "metadata": {
        "colab": {
          "base_uri": "https://localhost:8080/",
          "height": 313
        },
        "id": "IkHaffy5lkmK",
        "outputId": "30706c15-3b81-4366-ae44-4f923cad0e89"
      },
      "execution_count": null,
      "outputs": [
        {
          "output_type": "execute_result",
          "data": {
            "text/plain": [
              "Text(0, 0.5, 'Средняя годовая смертность')"
            ]
          },
          "metadata": {},
          "execution_count": 88
        },
        {
          "output_type": "display_data",
          "data": {
            "image/png": "[encoded data removed]",
            "text/plain": [
              "<Figure size 432x288 with 1 Axes>"
            ]
          },
          "metadata": {
            "needs_background": "light"
          }
        }
      ]
    },
    {
      "cell_type": "code",
      "source": [
        "rr = y - y_pred\n",
        "rr.plot(kind='hist', title='Распределение остатков', bins=25)"
      ],
      "metadata": {
        "colab": {
          "base_uri": "https://localhost:8080/",
          "height": 300
        },
        "id": "1I5dWFTklsRc",
        "outputId": "591832ec-4935-46e7-b12e-ec7176590afa"
      },
      "execution_count": null,
      "outputs": [
        {
          "output_type": "execute_result",
          "data": {
            "text/plain": [
              "<matplotlib.axes._subplots.AxesSubplot at 0x7fe21425f9d0>"
            ]
          },
          "metadata": {},
          "execution_count": 89
        },
        {
          "output_type": "display_data",
          "data": {
            "image/png": "[encoded data removed]",
            "text/plain": [
              "<Figure size 432x288 with 1 Axes>"
            ]
          },
          "metadata": {
            "needs_background": "light"
          }
        }
      ]
    },
    {
      "cell_type": "markdown",
      "source": [
        "**Северные города**"
      ],
      "metadata": {
        "id": "VsS5_YKXlwB1"
      }
    },
    {
      "cell_type": "code",
      "source": [
        "print(df_north['mortality'].corr(df_north['hardness']))   # Пирсон. Слабая обратная связь \n",
        "print(df_north['mortality'].corr(df_north['hardness'], method='spearman'))   # Спирмен. Слабая обратная связь "
      ],
      "metadata": {
        "colab": {
          "base_uri": "https://localhost:8080/"
        },
        "id": "Nz9WoDroSil6",
        "outputId": "311eacc4-5204-438d-e5d6-c44d5ded0958"
      },
      "execution_count": null,
      "outputs": [
        {
          "output_type": "stream",
          "name": "stdout",
          "text": [
            "-0.3685978383288718\n",
            "-0.4042078956511175\n"
          ]
        }
      ]
    },
    {
      "cell_type": "code",
      "source": [
        "X = df_north[['hardness']]\n",
        "y = df_north['mortality']\n",
        "X_train, X_test, y_train, y_test = train_test_split(X, y, test_size=0.1, random_state=42)  # т.к. данных очень мало, увеличим часть данных, на ктр модель будет обучаться \n",
        "model = LinearRegression()    \n",
        "model.fit(X_train, y_train)  # y = -1,8 * X + 1687.7\n",
        "print(model.coef_)\n",
        "print(model.intercept_)"
      ],
      "metadata": {
        "colab": {
          "base_uri": "https://localhost:8080/"
        },
        "id": "xuwQLnSOl1RL",
        "outputId": "7b2a2b7d-0a64-46fa-cdf1-1d55e55b2b3c"
      },
      "execution_count": null,
      "outputs": [
        {
          "output_type": "stream",
          "name": "stdout",
          "text": [
            "[-1.822715]\n",
            "1687.7073646127963\n"
          ]
        }
      ]
    },
    {
      "cell_type": "code",
      "source": [
        "model.score(X_test, y_test)   # Коэффициент детерминации. Качество модели очень плохое, что ожидалось, т.к. и взаимосвязь между показателями слабая "
      ],
      "metadata": {
        "colab": {
          "base_uri": "https://localhost:8080/"
        },
        "id": "gYUbdJA0mGjm",
        "outputId": "8345d057-3668-489f-dae0-30d45d9029f0"
      },
      "execution_count": null,
      "outputs": [
        {
          "output_type": "execute_result",
          "data": {
            "text/plain": [
              "0.032340393386281474"
            ]
          },
          "metadata": {},
          "execution_count": 94
        }
      ]
    },
    {
      "cell_type": "code",
      "source": [
        "y_pred = model.predict(X)\n",
        "\n",
        "plt.scatter(X, y)\n",
        "plt.plot(X, y_pred, c='r')\n",
        "plt.plot([X['hardness'], X['hardness']], [y, y_pred])\n",
        "plt.title('График остатков по южным городам')\n",
        "plt.xlabel('Жёсткость воды')\n",
        "plt.ylabel('Средняя годовая смертность')"
      ],
      "metadata": {
        "colab": {
          "base_uri": "https://localhost:8080/",
          "height": 313
        },
        "id": "coe8iXXDmSVz",
        "outputId": "45843a16-7ef1-4c9e-fcf7-6955b908b94b"
      },
      "execution_count": null,
      "outputs": [
        {
          "output_type": "execute_result",
          "data": {
            "text/plain": [
              "Text(0, 0.5, 'Средняя годовая смертность')"
            ]
          },
          "metadata": {},
          "execution_count": 95
        },
        {
          "output_type": "display_data",
          "data": {
            "image/png": "[encoded data removed]",
            "text/plain": [
              "<Figure size 432x288 with 1 Axes>"
            ]
          },
          "metadata": {
            "needs_background": "light"
          }
        }
      ]
    },
    {
      "cell_type": "code",
      "source": [
        "rr = y - y_pred\n",
        "rr.plot(kind='hist', title='Распределение остатков', bins=25)"
      ],
      "metadata": {
        "colab": {
          "base_uri": "https://localhost:8080/",
          "height": 300
        },
        "id": "sleZOv2omV6Z",
        "outputId": "4e71d6a6-83c0-4664-a37e-cd4f61214e4d"
      },
      "execution_count": null,
      "outputs": [
        {
          "output_type": "execute_result",
          "data": {
            "text/plain": [
              "<matplotlib.axes._subplots.AxesSubplot at 0x7fe213add650>"
            ]
          },
          "metadata": {},
          "execution_count": 96
        },
        {
          "output_type": "display_data",
          "data": {
            "image/png": "[encoded data removed]",
            "text/plain": [
              "<Figure size 432x288 with 1 Axes>"
            ]
          },
          "metadata": {
            "needs_background": "light"
          }
        }
      ]
    },
    {
      "cell_type": "markdown",
      "source": [
        "▶ Для южных городов, взаимосвязь сохраняется, результаты анализа соответсвуют результатм ао обобщённым данным.  Для северных городов такая взаимосвязь не сохраняется. "
      ],
      "metadata": {
        "id": "ittqUesPS311"
      }
    }
  ]
}