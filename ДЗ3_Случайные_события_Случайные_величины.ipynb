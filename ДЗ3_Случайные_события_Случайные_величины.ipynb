{
  "nbformat": 4,
  "nbformat_minor": 0,
  "metadata": {
    "colab": {
      "name": "ДЗ3_Случайные события_Случайные величины.ipynb",
      "provenance": [],
      "collapsed_sections": []
    },
    "kernelspec": {
      "name": "python3",
      "display_name": "Python 3"
    },
    "language_info": {
      "name": "python"
    }
  },
  "cells": [
    {
      "cell_type": "code",
      "execution_count": null,
      "metadata": {
        "id": "NsB9DIWIqtVR"
      },
      "outputs": [],
      "source": [
        "import numpy as np"
      ]
    },
    {
      "cell_type": "markdown",
      "source": [
        "***Задание***\n",
        "\n",
        "Смоделировать игру против лотерейного автомата типа “777”. Игрок платит 1 руб., после чего выпадает случайное целое число, равномерно распределенное от 0 до 999. При некоторых значениях числа игрок получает выигрыш.\n",
        "\n",
        "777: 200 руб.\n",
        "\n",
        "999: 100 руб.\n",
        "\n",
        "555: 50 руб.\n",
        "\n",
        "333: 15 руб.\n",
        "\n",
        "111: 10 руб.\n",
        "\n",
        "*77: 5 руб.\n",
        "\n",
        "**7: 3 руб.\n",
        "\n",
        "*00: 2 руб.\n",
        "\n",
        "**0: 1 руб.\n",
        "\n",
        "\n",
        "***Вопросы:***\n",
        "\n",
        "* Выгодна ли игра игроку?\n",
        "* Сколько в среднем приобретает или теряет игрок за одну игру?\n",
        "\n",
        "***Дополнительное задание повышенной сложности.***\n",
        "\n",
        "Теоретически рассчитать средний выигрыш (проигрыш) и сравнить с результатами моделирования\n",
        "\n",
        "– любая цифра"
      ],
      "metadata": {
        "id": "osg9Kg9tq4SG"
      }
    },
    {
      "cell_type": "markdown",
      "source": [
        "# Симулятор лотерейного автомата"
      ],
      "metadata": {
        "id": "2oQlYWUr65QU"
      }
    },
    {
      "cell_type": "markdown",
      "source": [
        "**Пользователь vs Лотерейный автомат**"
      ],
      "metadata": {
        "id": "bQx3JNtF3nlZ"
      }
    },
    {
      "cell_type": "code",
      "source": [
        "def Game_777_():\n",
        "\n",
        "  spending = 0 # траты\n",
        "  win = 0 # выйгрыш\n",
        "  win_count = 0 # количество побед\n",
        "  games_count = 0 # количество игр\n",
        "\n",
        "  dict_win = {777:200, 999:100, 555:50, 333:15, 111:10}\n",
        "  dict_win_ = {'*77':5, '**7':3,'*00':2, '**0':1}\n",
        "\n",
        "  while int(input('Если вы хотите сыграть, нажмите 1. Если хотите окончить игру, нажмите 0: ')) != 0:\n",
        "    spending += 1\n",
        "    games_count += 1\n",
        "    machine = np.random.randint(0, 1000)\n",
        "\n",
        "    if machine in dict_win.keys():\n",
        "      for el, win_sum in dict_win.items():\n",
        "        if el == machine:\n",
        "          win_count += 1\n",
        "          win += win_sum\n",
        "          print(f'Вы выйграли {win_sum} руб! Выйгрышная комбинация - {machine}') \n",
        "    elif ((machine % 100) == 0) and (machine != 0):\n",
        "          win_count += 1\n",
        "          win += dict_win_['*00']\n",
        "          print(f\"Вы выйграли {dict_win_['*00']} руб! Выйгрышная комбинация - {machine}\") \n",
        "    elif ((machine % 100) != 0) and ((machine % 10) == 0) and (machine != 0):\n",
        "          win_count += 1\n",
        "          win += dict_win_['**0']\n",
        "          print(f\"Вы выйграли {dict_win_['**0']} руб! Выйгрышная комбинация - {machine}\")     \n",
        "    elif (machine % 100) == 77:\n",
        "          win_count += 1\n",
        "          win += dict_win_['*77']\n",
        "          print(f\"Вы выйграли {dict_win_['*77']} руб! Выйгрышная комбинация - {machine}\") \n",
        "    elif ((machine % 100) != 77) and ((machine % 10) == 7):\n",
        "          win_count += 1\n",
        "          win += dict_win_['**7']\n",
        "          print(f\"Вы выйграли {dict_win_['**7']} руб! Выйгрышная комбинация - {machine}\")  \n",
        "    else:\n",
        "      print(f'Вы проиграли. Хотите сыграть ещё раз? ')\n",
        "\n",
        "  print('_______________________________') \n",
        "  print(f'Вы сыграли {games_count} игр') \n",
        "  print(f'Выйграли {win_count} игр')\n",
        "  print(f'Проиграли {games_count - win_count} игр')\n",
        "  print(f'Ваш общий выйгрыш {win} руб')\n",
        "  print(f'Затраты {spending} руб')"
      ],
      "metadata": {
        "id": "gGbWMeOpX80Q"
      },
      "execution_count": null,
      "outputs": []
    },
    {
      "cell_type": "code",
      "source": [
        "Game_777_()"
      ],
      "metadata": {
        "colab": {
          "base_uri": "https://localhost:8080/"
        },
        "id": "tZDBOLKDYG8E",
        "outputId": "567e0ed0-fb07-4169-f685-a1dc0e0720e8"
      },
      "execution_count": null,
      "outputs": [
        {
          "output_type": "stream",
          "name": "stdout",
          "text": [
            "Если вы хотите сыграть, нажмите 1. Если хотите окончить игру, нажмите 0: 1\n",
            "Вы проиграли. Хотите сыграть ещё раз? \n",
            "Если вы хотите сыграть, нажмите 1. Если хотите окончить игру, нажмите 0: 1\n",
            "Вы проиграли. Хотите сыграть ещё раз? \n",
            "Если вы хотите сыграть, нажмите 1. Если хотите окончить игру, нажмите 0: 1\n",
            "Вы выйграли 1 руб! Выйгрышная комбинация - 640\n",
            "Если вы хотите сыграть, нажмите 1. Если хотите окончить игру, нажмите 0: 1\n",
            "Вы проиграли. Хотите сыграть ещё раз? \n",
            "Если вы хотите сыграть, нажмите 1. Если хотите окончить игру, нажмите 0: 1\n",
            "Вы проиграли. Хотите сыграть ещё раз? \n",
            "Если вы хотите сыграть, нажмите 1. Если хотите окончить игру, нажмите 0: 1\n",
            "Вы проиграли. Хотите сыграть ещё раз? \n",
            "Если вы хотите сыграть, нажмите 1. Если хотите окончить игру, нажмите 0: 1\n",
            "Вы проиграли. Хотите сыграть ещё раз? \n",
            "Если вы хотите сыграть, нажмите 1. Если хотите окончить игру, нажмите 0: 1\n",
            "Вы проиграли. Хотите сыграть ещё раз? \n",
            "Если вы хотите сыграть, нажмите 1. Если хотите окончить игру, нажмите 0: 1\n",
            "Вы выйграли 5 руб! Выйгрышная комбинация - 277\n",
            "Если вы хотите сыграть, нажмите 1. Если хотите окончить игру, нажмите 0: 0\n",
            "_______________________________\n",
            "Вы сыграли 9 игр\n",
            "Выйграли 2 игр\n",
            "Проиграли 7 игр\n",
            "Ваш общий выйгрыш 6 руб\n",
            "Затраты 9 руб\n"
          ]
        }
      ]
    },
    {
      "cell_type": "markdown",
      "source": [
        "**Запустим лотерейный автомат 1 000 000 раз**"
      ],
      "metadata": {
        "id": "6JoYdfkc3_LS"
      }
    },
    {
      "cell_type": "code",
      "source": [
        "spending = 0 # траты\n",
        "win = 0 # выйгрыш\n",
        "win_count = 0 # количество побед\n",
        "games_count = 0 # количество игр\n",
        "\n",
        "dict_win = {777:200, 999:100, 555:50, 333:15, 111:10}\n",
        "dict_win_ = {'*77':5, '**7':3,'*00':2, '**0':1}\n",
        "\n",
        "while games_count != 1000000:\n",
        "  spending += 1\n",
        "  games_count += 1\n",
        "  machine = np.random.randint(0, 1000)\n",
        "\n",
        "  if machine in dict_win.keys():\n",
        "    for el, win_sum in dict_win.items():\n",
        "      if el == machine:\n",
        "        win_count += 1\n",
        "        win += win_sum\n",
        "  elif ((machine % 100) == 0) and (machine != 0):\n",
        "    win_count += 1\n",
        "    win += dict_win_['*00']\n",
        "  elif ((machine % 100) != 0) and (machine % 10) == 0 and (machine != 0):\n",
        "    win_count += 1\n",
        "    win += dict_win_['**0']\n",
        "  elif (machine % 100) == 77:\n",
        "    win_count += 1\n",
        "    win += dict_win_['*77']\n",
        "  elif ((machine % 100) != 77) and (machine % 10) == 7:\n",
        "    win_count += 1\n",
        "    win += dict_win_['**7']\n",
        "\n",
        "\n",
        "print(f'Вы сыграли {games_count} игр') \n",
        "print(f'Выйграли {win_count} игр')\n",
        "print(f'Проиграли {games_count - win_count} игр')\n",
        "print(f'Ваш общий выйгрыш {win} руб')\n",
        "print(f'Затраты {spending} руб')"
      ],
      "metadata": {
        "colab": {
          "base_uri": "https://localhost:8080/"
        },
        "id": "lVcJfFg3Y5T-",
        "outputId": "ac4bd6c4-1fb0-462b-b214-e0003cb57e6e"
      },
      "execution_count": null,
      "outputs": [
        {
          "output_type": "stream",
          "name": "stdout",
          "text": [
            "Вы сыграли 1000000 игр\n",
            "Выйграли 203372 игр\n",
            "Проиграли 796628 игр\n",
            "Ваш общий выйгрыш 801776 руб\n",
            "Затраты 1000000 руб\n"
          ]
        }
      ]
    },
    {
      "cell_type": "markdown",
      "source": [
        "**Статистика**"
      ],
      "metadata": {
        "id": "muOVXEJx4k2j"
      }
    },
    {
      "cell_type": "code",
      "source": [
        "all_variant = 1000         # все числа от 0 до 999 \n",
        "p_win = 203/all_variant    # вероятность победы (203 выйгрышные комбинации)\n",
        "\n",
        "frequency = win_count/games_count  # частота, полученная в ходе 1 млн. запусков автомата\n",
        "\n",
        "effect = (win_count - spending)/spending\n",
        "\n",
        "print(f'Вероятность победы = {p_win}')\n",
        "print(f'Частота победы за 1 млн. запусков автомата = {frequency}')\n",
        "print(f'В среднем игрок теряет {effect} руб за одну игру')"
      ],
      "metadata": {
        "colab": {
          "base_uri": "https://localhost:8080/"
        },
        "id": "CRbi5N4mK5V-",
        "outputId": "b9c32b43-ac9c-4328-b17a-a95e6504d1f9"
      },
      "execution_count": null,
      "outputs": [
        {
          "output_type": "stream",
          "name": "stdout",
          "text": [
            "Вероятность победы = 0.203\n",
            "Частота победы за 1 млн. запусков автомата = 0.203372\n",
            "В среднем игрок теряет -0.796628 руб за одну игру\n"
          ]
        }
      ]
    },
    {
      "cell_type": "markdown",
      "source": [
        "▶ Игра игроку не выгодна, т.к. вероятность выйграть около 20%, а в среднем за одну игру игрок теряет 0,8 руб."
      ],
      "metadata": {
        "id": "FiEUHC1_7B4z"
      }
    },
    {
      "cell_type": "code",
      "source": [
        "# Xi\n",
        "win_777 = 200 \n",
        "win_999 = 100 \n",
        "win_555 = 50\n",
        "win_333 = 15\n",
        "win_111 = 10\n",
        "win__77 = 5 \n",
        "win___7 = 3 \n",
        "win__00 = 2\n",
        "win___0 = 1 \n",
        "\n",
        "# Pi\n",
        "p_777 = 1/1000 \n",
        "p_999 = 1/1000  \n",
        "p_555 = 1/1000 \n",
        "p_333 = 1/1000 \n",
        "p_111 = 1/1000 \n",
        "p__77 = 9/1000  \n",
        "p___7 = 90/1000  \n",
        "p__00 = 9/1000 \n",
        "p___0 = 90/1000  \n",
        "\n",
        "sum_px = win_777*p_777 + win_999*p_999 + win_555*p_555 + win_111*p_111 + win__77*p__77 + win___7*p___7 + win__00*p__00 + win___0*p___0\n",
        "print(f'Математическое ожидание выйгрыша  {sum_px}\\nС учётом затрат на билет {1-sum_px}')\n"
      ],
      "metadata": {
        "colab": {
          "base_uri": "https://localhost:8080/"
        },
        "id": "g9mmHD_0HVuO",
        "outputId": "cf4a47b5-a348-4349-c96f-deec790b904d"
      },
      "execution_count": null,
      "outputs": [
        {
          "output_type": "stream",
          "name": "stdout",
          "text": [
            "Математическое ожидание выйгрыша  0.783\n",
            "С учётом затрат на билет 0.21699999999999997\n"
          ]
        }
      ]
    },
    {
      "cell_type": "code",
      "source": [
        "res = 0.001*(200 + 100 + 50 + 15 + 10) + (9/1000)*5 + (10/1000)*2 + (90/1000)*3 + (90/1000)*1\n"
      ],
      "metadata": {
        "id": "sOZtqU3zZC6R"
      },
      "execution_count": null,
      "outputs": []
    },
    {
      "cell_type": "markdown",
      "source": [
        "***Первоначальный код, жалко удалять***"
      ],
      "metadata": {
        "id": "uJWbpi61X9rT"
      }
    },
    {
      "cell_type": "code",
      "source": [
        "def Game_777():\n",
        "\n",
        "  win_777 = 200 \n",
        "  win_999 = 100 \n",
        "  win_555 = 50\n",
        "  win_333 = 15\n",
        "  win_111 = 10\n",
        "  win__77 = 5 \n",
        "  win___7 = 3 \n",
        "  win__00 = 2\n",
        "  win___0 = 1 \n",
        "\n",
        "  spending = 0            # траты\n",
        "  win = 0                 # выйгрыш\n",
        "  games_count = 0         # количество игр\n",
        "  win_count = 0           # количество побед\n",
        "\n",
        "  while int(input('Если вы хотите сыграть, нажмите 1. Если хотите окончить игру, нажмите 0: ')) != 0:\n",
        "    spending += 1\n",
        "    games_count += 1\n",
        "    machine = np.random.randint(0, 10, 3)\n",
        "    if all(machine == [7, 7, 7]): \n",
        "      win += win_777\n",
        "      win_count += 1\n",
        "      print(f'Вы выйграли {win_777} руб! Выйгрышная комбинация - {machine}') \n",
        "    elif all(machine == [9, 9, 9]):  \n",
        "      win += win_999\n",
        "      win_count += 1\n",
        "      print(f'Вы выйграли {win_999} руб! Выйгрышная комбинация - {machine}') \n",
        "    elif all(machine == [5, 5, 5]): \n",
        "      win += win_555\n",
        "      win_count += 1\n",
        "      print(f'Вы выйграли {win_555} руб! Выйгрышная комбинация - {machine}')\n",
        "    elif all(machine == [3, 3, 3]): \n",
        "      win += win_333 \n",
        "      win_count += 1\n",
        "      print(f'Вы выйграли {win_333} руб! Выйгрышная комбинация - {machine}')\n",
        "    elif all(machine == [1, 1, 1]):\n",
        "      win += win_111\n",
        "      win_count += 1\n",
        "      print(f'Вы выйграли {win_111} руб! Выйгрышная комбинация - {machine}')\n",
        "    elif (machine[0] != 7) & (machine[1] == 7) & (machine[2] == 7):\n",
        "      win += win__77\n",
        "      win_count += 1\n",
        "      print(f'Вы выйграли {win__77} руб! Выйгрышная комбинация - {machine}')\n",
        "    elif (machine[0] != 7) & (machine[1] != 7) & (machine[2] == 7): \n",
        "      win += win___7\n",
        "      win_count += 1\n",
        "      print(f'Вы выйграли {win___7} руб! Выйгрышная комбинация - {machine}')\n",
        "    elif (machine[0] != 0) & (machine[1] == 0) & (machine[2] == 0):\n",
        "      win += win__00\n",
        "      win_count += 1   \n",
        "      print(f'Вы выйграли {win__00} руб! Выйгрышная комбинация - {machine}')  \n",
        "    elif (machine[0] != 0) & (machine[1] != 0) & (machine[2] == 0):\n",
        "      win += win___0\n",
        "      win_count += 1   \n",
        "      print(f'Вы выйграли {win___0} руб! Выйгрышная комбинация - {machine}')       \n",
        "    else:\n",
        "      print(f'Вы проиграли. Хотите сыграть ещё раз? ')\n",
        "\n",
        "  print('_______________________________') \n",
        "  print(f'Вы сыграли {games_count} игр')      \n",
        "  print(f'Выйграли {win_count} игр')\n",
        "  print(f'Проиграли {games_count - win_count} игр')\n",
        "  print(f'Ваш общий выйгрыш {win} руб')\n",
        "  print(f'Затраты {spending} руб')"
      ],
      "metadata": {
        "id": "wyzgOzKwq9r8"
      },
      "execution_count": null,
      "outputs": []
    },
    {
      "cell_type": "code",
      "source": [
        "Game_777()"
      ],
      "metadata": {
        "colab": {
          "base_uri": "https://localhost:8080/"
        },
        "id": "5j_Jzzm_ixTC",
        "outputId": "5ec56ed3-b754-4fea-a009-3b7b35e9da2e"
      },
      "execution_count": null,
      "outputs": [
        {
          "output_type": "stream",
          "name": "stdout",
          "text": [
            "Если вы хотите сыграть, нажмите 1. Если хотите окончить игру, нажмите 0: 1\n",
            "Вы проиграли. Хотите сыграть ещё раз? \n",
            "Если вы хотите сыграть, нажмите 1. Если хотите окончить игру, нажмите 0: 1\n",
            "Вы проиграли. Хотите сыграть ещё раз? \n",
            "Если вы хотите сыграть, нажмите 1. Если хотите окончить игру, нажмите 0: 1\n",
            "Вы проиграли. Хотите сыграть ещё раз? \n",
            "Если вы хотите сыграть, нажмите 1. Если хотите окончить игру, нажмите 0: 1\n",
            "Вы выйграли 1 руб! Выйгрышная комбинация - [3 7 0]\n",
            "Если вы хотите сыграть, нажмите 1. Если хотите окончить игру, нажмите 0: 1\n",
            "Вы проиграли. Хотите сыграть ещё раз? \n",
            "Если вы хотите сыграть, нажмите 1. Если хотите окончить игру, нажмите 0: 1\n",
            "Вы проиграли. Хотите сыграть ещё раз? \n",
            "Если вы хотите сыграть, нажмите 1. Если хотите окончить игру, нажмите 0: 1\n",
            "Вы проиграли. Хотите сыграть ещё раз? \n",
            "Если вы хотите сыграть, нажмите 1. Если хотите окончить игру, нажмите 0: 1\n",
            "Вы проиграли. Хотите сыграть ещё раз? \n",
            "Если вы хотите сыграть, нажмите 1. Если хотите окончить игру, нажмите 0: 1\n",
            "Вы проиграли. Хотите сыграть ещё раз? \n",
            "Если вы хотите сыграть, нажмите 1. Если хотите окончить игру, нажмите 0: 1\n",
            "Вы проиграли. Хотите сыграть ещё раз? \n",
            "Если вы хотите сыграть, нажмите 1. Если хотите окончить игру, нажмите 0: 1\n",
            "Вы проиграли. Хотите сыграть ещё раз? \n",
            "Если вы хотите сыграть, нажмите 1. Если хотите окончить игру, нажмите 0: 1\n",
            "Вы проиграли. Хотите сыграть ещё раз? \n",
            "Если вы хотите сыграть, нажмите 1. Если хотите окончить игру, нажмите 0: 0\n",
            "_______________________________\n",
            "Вы сыграли 12 игр\n",
            "Выйграли 1 игр\n",
            "Проиграли 11 игр\n",
            "Ваш общий выйгрыш 1 руб\n",
            "Затраты 12 руб\n"
          ]
        }
      ]
    },
    {
      "cell_type": "code",
      "source": [
        "win_777 = 200 \n",
        "win_999 = 100 \n",
        "win_555 = 50\n",
        "win_333 = 15\n",
        "win_111 = 10\n",
        "win__77 = 5 \n",
        "win___7 = 3 \n",
        "win__00 = 2\n",
        "win___0 = 1 \n",
        "\n",
        "spending = 0            # траты\n",
        "win = 0                 # выйгрыш\n",
        "games_count = 0         # количество игр\n",
        "win_count = 0           # количество побед\n",
        "\n",
        "while games_count != 100000:\n",
        "  spending += 1\n",
        "  games_count += 1\n",
        "  machine = np.random.randint(0, 10, 3)\n",
        "  if all(machine == [7, 7, 7]): \n",
        "    win += win_777\n",
        "    win_count += 1\n",
        "  elif all(machine == [9, 9, 9]):  \n",
        "    win += win_999\n",
        "    win_count += 1\n",
        "  elif all(machine == [5, 5, 5]): \n",
        "    win += win_555\n",
        "    win_count += 1\n",
        "  elif all(machine == [3, 3, 3]): \n",
        "    win += win_333 \n",
        "    win_count += 1\n",
        "  elif all(machine == [1, 1, 1]):\n",
        "    win += win_111\n",
        "    win_count += 1\n",
        "  elif (machine[0] != 7) & (machine[1] == 7) & (machine[2] == 7):\n",
        "    win += win__77\n",
        "    win_count += 1\n",
        "  elif (machine[0] != 7) & (machine[1] != 7) & (machine[2] == 7): \n",
        "    win += win___7\n",
        "    win_count += 1\n",
        "  elif (machine[0] != 0) & (machine[1] == 0) & (machine[2] == 0):\n",
        "    win += win__00\n",
        "    win_count += 1   \n",
        "  elif (machine[0] != 0) & (machine[1] != 0) & (machine[2] == 0):\n",
        "    win += win___0\n",
        "    win_count += 1   \n",
        "\n",
        "print(f'Вы сыграли {games_count} игр')      \n",
        "print(f'Выйграли {win_count} игр')\n",
        "print(f'Проиграли {games_count - win_count} игр')\n",
        "print(f'Ваш общий выйгрыш {win} руб')\n",
        "print(f'Затраты {spending} руб')"
      ],
      "metadata": {
        "colab": {
          "base_uri": "https://localhost:8080/"
        },
        "id": "wSnqyz_QJ5iN",
        "outputId": "2280a9d0-c26e-45ed-b0f3-eb367e46e0b5"
      },
      "execution_count": null,
      "outputs": [
        {
          "output_type": "stream",
          "name": "stdout",
          "text": [
            "Вы сыграли 100000 игр\n",
            "Выйграли 18498 игр\n",
            "Проиграли 81502 игр\n",
            "Ваш общий выйгрыш 74629 руб\n",
            "Затраты 100000 руб\n"
          ]
        }
      ]
    }
  ]
}